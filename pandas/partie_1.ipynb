{
 "cells": [
  {
   "cell_type": "markdown",
   "metadata": {},
   "source": [
    "<h1>Part 1 : Data structures in pandas"
   ]
  },
  {
   "cell_type": "markdown",
   "metadata": {},
   "source": [
    "In Pandas, there are two primary data structures:\n",
    "- Series: A one-dimensional data structure that represents a column or a row in a table. It consists of two main components:\n",
    "    - index: Labels for each data point, providing a way to access and manipulate the data.\n",
    "    - values: The actual data points.\n",
    "    - name (optional)\n",
    "- DataFrames: A two-dimensional data structure that represents a table. It is essentially a collection of Series with a shared index. Key features include:\n",
    "    - columns: Each column in a DataFrame is a Series, sharing the same index.\n",
    "    - index: Labels for the rows, allowing for easy access and alignment of data.\n",
    "    - values: The data stored in a tabular format.\n",
    "\n",
    "A DataFrame can be thought of as a powerful and flexible container, akin to an Excel datasheet or a database table, where you can perform various operations such as filtering, grouping, merging, and analysis on structured data."
   ]
  },
  {
   "cell_type": "markdown",
   "metadata": {},
   "source": [
    "1. Importing the Pandas library"
   ]
  },
  {
   "cell_type": "code",
   "execution_count": 35,
   "metadata": {},
   "outputs": [],
   "source": [
    "import pandas as pd"
   ]
  },
  {
   "cell_type": "markdown",
   "metadata": {},
   "source": [
    "<h3> Series</h3>"
   ]
  },
  {
   "cell_type": "markdown",
   "metadata": {},
   "source": [
    "1. Creating a Series from a homogeneous list"
   ]
  },
  {
   "cell_type": "code",
   "execution_count": 93,
   "metadata": {},
   "outputs": [],
   "source": [
    "# Creating a list of house surface areas\n",
    "# It represents the values of Series\n",
    "surfaces = [120, 80, 150, 200, 90]"
   ]
  },
  {
   "cell_type": "code",
   "execution_count": 94,
   "metadata": {},
   "outputs": [
    {
     "data": {
      "text/plain": [
       "0    120\n",
       "1     80\n",
       "2    150\n",
       "3    200\n",
       "4     90\n",
       "Name: Surface, dtype: int64"
      ]
     },
     "execution_count": 94,
     "metadata": {},
     "output_type": "execute_result"
    }
   ],
   "source": [
    "# Creating a Series from the list of values\n",
    "# We can specify the name of Series 'Surface' (It is optional)\n",
    "s_surfaces = pd.Series(surfaces, name='Surface')\n",
    "s_surfaces"
   ]
  },
  {
   "cell_type": "code",
   "execution_count": 95,
   "metadata": {},
   "outputs": [
    {
     "data": {
      "text/plain": [
       "RangeIndex(start=0, stop=5, step=1)"
      ]
     },
     "execution_count": 95,
     "metadata": {},
     "output_type": "execute_result"
    }
   ],
   "source": [
    "# We notice that the index of Series is not relevant (it is by default a sequence of integers)\n",
    "s_surfaces.index"
   ]
  },
  {
   "cell_type": "code",
   "execution_count": 96,
   "metadata": {},
   "outputs": [
    {
     "data": {
      "text/plain": [
       "Maison1    120\n",
       "Maison2     80\n",
       "Maison3    150\n",
       "Maison4    200\n",
       "Maison5     90\n",
       "Name: Surface, dtype: int64"
      ]
     },
     "execution_count": 96,
     "metadata": {},
     "output_type": "execute_result"
    }
   ],
   "source": [
    "# We can improve the series index\n",
    "# We can spécify a relevant index , for example names of houses\n",
    "# It is passed as a list\n",
    "s_surfaces = pd.Series(surfaces, name='Surface', \n",
    "                                index=['Maison1', 'Maison2', 'Maison3', 'Maison4', 'Maison5'])\n",
    "s_surfaces"
   ]
  },
  {
   "cell_type": "markdown",
   "metadata": {},
   "source": [
    "3. Creating a Series from a dictionary (heterogenous list)"
   ]
  },
  {
   "cell_type": "code",
   "execution_count": 98,
   "metadata": {},
   "outputs": [],
   "source": [
    "# Creating a dictionary that contains the informations about a house\n",
    "# For example, we specify the surface and the number of romms\n",
    "house = {'Surface': 150, 'Rooms': 3}"
   ]
  },
  {
   "cell_type": "code",
   "execution_count": 99,
   "metadata": {},
   "outputs": [],
   "source": [
    "# Creating a Series from the dictionary\n",
    "s_house = pd.Series(house, name='House1')"
   ]
  },
  {
   "cell_type": "code",
   "execution_count": 100,
   "metadata": {},
   "outputs": [
    {
     "data": {
      "text/plain": [
       "Surface    150\n",
       "Rooms        3\n",
       "Name: House1, dtype: int64"
      ]
     },
     "execution_count": 100,
     "metadata": {},
     "output_type": "execute_result"
    }
   ],
   "source": [
    "s_house"
   ]
  },
  {
   "cell_type": "code",
   "execution_count": 101,
   "metadata": {},
   "outputs": [
    {
     "data": {
      "text/plain": [
       "Index(['Surface', 'Rooms'], dtype='object')"
      ]
     },
     "execution_count": 101,
     "metadata": {},
     "output_type": "execute_result"
    }
   ],
   "source": [
    "# Get house index\n",
    "s_house.index"
   ]
  },
  {
   "cell_type": "code",
   "execution_count": 102,
   "metadata": {},
   "outputs": [
    {
     "data": {
      "text/plain": [
       "array([150,   3], dtype=int64)"
      ]
     },
     "execution_count": 102,
     "metadata": {},
     "output_type": "execute_result"
    }
   ],
   "source": [
    "# Get house values\n",
    "s_house.values"
   ]
  },
  {
   "cell_type": "code",
   "execution_count": 103,
   "metadata": {},
   "outputs": [
    {
     "data": {
      "text/plain": [
       "'House1'"
      ]
     },
     "execution_count": 103,
     "metadata": {},
     "output_type": "execute_result"
    }
   ],
   "source": [
    "# Get house name\n",
    "s_house.name"
   ]
  },
  {
   "cell_type": "markdown",
   "metadata": {},
   "source": [
    "<h3>Dataframes"
   ]
  },
  {
   "cell_type": "markdown",
   "metadata": {},
   "source": [
    "Dataframes can be created in 3 ways :\n",
    "- First way : Create a dataframe based on columns\n",
    "- Second way : Create a dataframe based on rows\n",
    "- Third way : Create a dataframe based on CSV file"
   ]
  },
  {
   "cell_type": "markdown",
   "metadata": {},
   "source": [
    "1. First way : Create dataframe based on columns\n",
    "\n",
    "For example, we can follow the following steps :\n",
    "- Create a list of house names \n",
    "- Create series as many informations of houses, in our example :\n",
    "    - s_surfaces : a series for surfaces where index is the list names\n",
    "    - s_rooms : a series for rooms where index is the list names\n",
    "\n",
    "- Combine the 2 series s_surfaces and s_rooms togther as columns of one dataframe."
   ]
  },
  {
   "cell_type": "code",
   "execution_count": 110,
   "metadata": {},
   "outputs": [
    {
     "data": {
      "text/html": [
       "<div>\n",
       "<style scoped>\n",
       "    .dataframe tbody tr th:only-of-type {\n",
       "        vertical-align: middle;\n",
       "    }\n",
       "\n",
       "    .dataframe tbody tr th {\n",
       "        vertical-align: top;\n",
       "    }\n",
       "\n",
       "    .dataframe thead th {\n",
       "        text-align: right;\n",
       "    }\n",
       "</style>\n",
       "<table border=\"1\" class=\"dataframe\">\n",
       "  <thead>\n",
       "    <tr style=\"text-align: right;\">\n",
       "      <th></th>\n",
       "      <th>Surface</th>\n",
       "      <th>Rooms</th>\n",
       "    </tr>\n",
       "  </thead>\n",
       "  <tbody>\n",
       "    <tr>\n",
       "      <th>House1</th>\n",
       "      <td>120</td>\n",
       "      <td>3</td>\n",
       "    </tr>\n",
       "    <tr>\n",
       "      <th>House2</th>\n",
       "      <td>80</td>\n",
       "      <td>2</td>\n",
       "    </tr>\n",
       "    <tr>\n",
       "      <th>House3</th>\n",
       "      <td>150</td>\n",
       "      <td>4</td>\n",
       "    </tr>\n",
       "    <tr>\n",
       "      <th>House4</th>\n",
       "      <td>200</td>\n",
       "      <td>5</td>\n",
       "    </tr>\n",
       "    <tr>\n",
       "      <th>House5</th>\n",
       "      <td>90</td>\n",
       "      <td>2</td>\n",
       "    </tr>\n",
       "  </tbody>\n",
       "</table>\n",
       "</div>"
      ],
      "text/plain": [
       "        Surface  Rooms\n",
       "House1      120      3\n",
       "House2       80      2\n",
       "House3      150      4\n",
       "House4      200      5\n",
       "House5       90      2"
      ]
     },
     "execution_count": 110,
     "metadata": {},
     "output_type": "execute_result"
    }
   ],
   "source": [
    "# Creating a list for the names of houses\n",
    "names = ['House1','House2','House3','House4','House5']\n",
    "\n",
    "# Creating series for surfaces of houses\n",
    "s_surfaces = pd.Series([120, 80, 150, 200, 90], name='Surface', index=names)\n",
    "\n",
    "# Creating series for rooms of houses\n",
    "s_rooms = pd.Series([3, 2, 4, 5, 2], name='Rooms', index=names)\n",
    "\n",
    "# Combining the 2 series s_surfaces and s_rooms togther as columns of one dataframe.\n",
    "df_houses = pd.DataFrame({'Surface': s_surfaces, 'Rooms': s_rooms})\n",
    "\n",
    "df_houses"
   ]
  },
  {
   "cell_type": "markdown",
   "metadata": {},
   "source": [
    "2. Second way : Create dataframe based on rows\n",
    "\n",
    "For example, we can follow the following steps :\n",
    "- Create series as many houses, in our example :\n",
    "    - s_house1 : a series for 1st house\n",
    "    - s_house2 : a series for 2nd house\n",
    "    - ...\n",
    "\n",
    "- Combine all the house series s_house1 , s_house2, s_house3, .. togther as rows of one dataframe "
   ]
  },
  {
   "cell_type": "code",
   "execution_count": 111,
   "metadata": {},
   "outputs": [
    {
     "data": {
      "text/html": [
       "<div>\n",
       "<style scoped>\n",
       "    .dataframe tbody tr th:only-of-type {\n",
       "        vertical-align: middle;\n",
       "    }\n",
       "\n",
       "    .dataframe tbody tr th {\n",
       "        vertical-align: top;\n",
       "    }\n",
       "\n",
       "    .dataframe thead th {\n",
       "        text-align: right;\n",
       "    }\n",
       "</style>\n",
       "<table border=\"1\" class=\"dataframe\">\n",
       "  <thead>\n",
       "    <tr style=\"text-align: right;\">\n",
       "      <th></th>\n",
       "      <th>Surface</th>\n",
       "      <th>Rooms</th>\n",
       "    </tr>\n",
       "  </thead>\n",
       "  <tbody>\n",
       "    <tr>\n",
       "      <th>House1</th>\n",
       "      <td>120</td>\n",
       "      <td>3</td>\n",
       "    </tr>\n",
       "    <tr>\n",
       "      <th>House2</th>\n",
       "      <td>80</td>\n",
       "      <td>2</td>\n",
       "    </tr>\n",
       "    <tr>\n",
       "      <th>House3</th>\n",
       "      <td>150</td>\n",
       "      <td>4</td>\n",
       "    </tr>\n",
       "    <tr>\n",
       "      <th>House4</th>\n",
       "      <td>200</td>\n",
       "      <td>5</td>\n",
       "    </tr>\n",
       "    <tr>\n",
       "      <th>House5</th>\n",
       "      <td>90</td>\n",
       "      <td>2</td>\n",
       "    </tr>\n",
       "  </tbody>\n",
       "</table>\n",
       "</div>"
      ],
      "text/plain": [
       "        Surface  Rooms\n",
       "House1      120      3\n",
       "House2       80      2\n",
       "House3      150      4\n",
       "House4      200      5\n",
       "House5       90      2"
      ]
     },
     "execution_count": 111,
     "metadata": {},
     "output_type": "execute_result"
    }
   ],
   "source": [
    "# Creating series for each house\n",
    "s_house1 = pd.Series({'Surface': 120, 'Rooms': 3}, name='House1')\n",
    "s_house2 = pd.Series({'Surface': 80, 'Rooms': 2}, name='House2')\n",
    "s_house3 = pd.Series({'Surface': 150, 'Rooms': 4}, name='House3')\n",
    "s_house4 = pd.Series({'Surface': 200, 'Rooms': 5}, name='House4')\n",
    "s_house5 = pd.Series({'Surface': 90, 'Rooms': 2}, name='House5')\n",
    "\n",
    "# Combining the series (rows) into a DataFrame\n",
    "df_houses = pd.DataFrame([s_house1, s_house2, s_house3, s_house4, s_house5])\n",
    "\n",
    "# Displaying the DataFrame\n",
    "df_houses"
   ]
  },
  {
   "cell_type": "markdown",
   "metadata": {},
   "source": [
    "3. Create a dataframe from CSV file"
   ]
  },
  {
   "cell_type": "code",
   "execution_count": 113,
   "metadata": {},
   "outputs": [
    {
     "data": {
      "text/html": [
       "<div>\n",
       "<style scoped>\n",
       "    .dataframe tbody tr th:only-of-type {\n",
       "        vertical-align: middle;\n",
       "    }\n",
       "\n",
       "    .dataframe tbody tr th {\n",
       "        vertical-align: top;\n",
       "    }\n",
       "\n",
       "    .dataframe thead th {\n",
       "        text-align: right;\n",
       "    }\n",
       "</style>\n",
       "<table border=\"1\" class=\"dataframe\">\n",
       "  <thead>\n",
       "    <tr style=\"text-align: right;\">\n",
       "      <th></th>\n",
       "      <th>Surface</th>\n",
       "      <th>Rooms</th>\n",
       "    </tr>\n",
       "    <tr>\n",
       "      <th>Name</th>\n",
       "      <th></th>\n",
       "      <th></th>\n",
       "    </tr>\n",
       "  </thead>\n",
       "  <tbody>\n",
       "    <tr>\n",
       "      <th>House1</th>\n",
       "      <td>120</td>\n",
       "      <td>3</td>\n",
       "    </tr>\n",
       "    <tr>\n",
       "      <th>House2</th>\n",
       "      <td>80</td>\n",
       "      <td>2</td>\n",
       "    </tr>\n",
       "    <tr>\n",
       "      <th>House3</th>\n",
       "      <td>150</td>\n",
       "      <td>4</td>\n",
       "    </tr>\n",
       "    <tr>\n",
       "      <th>House4</th>\n",
       "      <td>200</td>\n",
       "      <td>5</td>\n",
       "    </tr>\n",
       "    <tr>\n",
       "      <th>House5</th>\n",
       "      <td>90</td>\n",
       "      <td>2</td>\n",
       "    </tr>\n",
       "  </tbody>\n",
       "</table>\n",
       "</div>"
      ],
      "text/plain": [
       "        Surface  Rooms\n",
       "Name                  \n",
       "House1      120      3\n",
       "House2       80      2\n",
       "House3      150      4\n",
       "House4      200      5\n",
       "House5       90      2"
      ]
     },
     "execution_count": 113,
     "metadata": {},
     "output_type": "execute_result"
    }
   ],
   "source": [
    "# Create a dataframe df_hauses from CSV file\n",
    "df_houses = pd.read_csv('houses.csv' , \n",
    "                        index_col=0 , \n",
    "                        header=0)\n",
    "df_houses"
   ]
  },
  {
   "cell_type": "code",
   "execution_count": 114,
   "metadata": {},
   "outputs": [
    {
     "data": {
      "text/plain": [
       "Index(['House1', 'House2', 'House3', 'House4', 'House5'], dtype='object', name='Name')"
      ]
     },
     "execution_count": 114,
     "metadata": {},
     "output_type": "execute_result"
    }
   ],
   "source": [
    "# get datafrmae index\n",
    "df_houses.index"
   ]
  },
  {
   "cell_type": "code",
   "execution_count": 115,
   "metadata": {},
   "outputs": [
    {
     "data": {
      "text/plain": [
       "Index(['Surface', 'Rooms'], dtype='object')"
      ]
     },
     "execution_count": 115,
     "metadata": {},
     "output_type": "execute_result"
    }
   ],
   "source": [
    "# get datafrmae columns\n",
    "df_houses.columns"
   ]
  },
  {
   "cell_type": "code",
   "execution_count": 116,
   "metadata": {},
   "outputs": [
    {
     "data": {
      "text/plain": [
       "array([[120,   3],\n",
       "       [ 80,   2],\n",
       "       [150,   4],\n",
       "       [200,   5],\n",
       "       [ 90,   2]], dtype=int64)"
      ]
     },
     "execution_count": 116,
     "metadata": {},
     "output_type": "execute_result"
    }
   ],
   "source": [
    "# get datafrmae values\n",
    "df_houses.values"
   ]
  },
  {
   "cell_type": "markdown",
   "metadata": {},
   "source": [
    "<h1>Exercice</h1>\n",
    "\n",
    "Create a dataframe composed of the following clients using the 3 ways seen above :\n",
    "- Client 1 : name = 'Ahmed' , salary = 1200.65 , age = 28\n",
    "- Client 2 : name = 'Sarra' , salary = 1800.87 , age = 35\n",
    "- Client 3 : name = 'Rahma' , salary = 1500.75 , age = 30\n",
    "\n",
    "Note : \n",
    "- The dataframe index is the client names "
   ]
  },
  {
   "cell_type": "code",
   "execution_count": null,
   "metadata": {},
   "outputs": [],
   "source": [
    "# Based on first way (columns -> dataframe)\n"
   ]
  },
  {
   "cell_type": "code",
   "execution_count": null,
   "metadata": {},
   "outputs": [],
   "source": [
    "# Based on second way (rows -> dataframe)\n"
   ]
  },
  {
   "cell_type": "code",
   "execution_count": null,
   "metadata": {},
   "outputs": [],
   "source": [
    "# Based on third way (CSV -> dataframe)\n"
   ]
  }
 ],
 "metadata": {
  "kernelspec": {
   "display_name": "venv_ML",
   "language": "python",
   "name": "python3"
  },
  "language_info": {
   "codemirror_mode": {
    "name": "ipython",
    "version": 3
   },
   "file_extension": ".py",
   "mimetype": "text/x-python",
   "name": "python",
   "nbconvert_exporter": "python",
   "pygments_lexer": "ipython3",
   "version": "3.8.3"
  }
 },
 "nbformat": 4,
 "nbformat_minor": 2
}
